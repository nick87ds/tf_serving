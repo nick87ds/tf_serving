{
 "cells": [
  {
   "cell_type": "markdown",
   "id": "33b5d374",
   "metadata": {},
   "source": [
    "# TensorFlow Serving"
   ]
  },
  {
   "cell_type": "markdown",
   "id": "7cabb934",
   "metadata": {},
   "source": [
    "## Docker example"
   ]
  },
  {
   "cell_type": "markdown",
   "id": "fdd7906a",
   "metadata": {},
   "source": [
    "### Installazione"
   ]
  },
  {
   "cell_type": "markdown",
   "id": "3c1ac55e",
   "metadata": {},
   "source": [
    "_docker pull tensorflow/serving_"
   ]
  },
  {
   "cell_type": "code",
   "execution_count": 81,
   "id": "48aa9a67",
   "metadata": {},
   "outputs": [],
   "source": [
    "import tensorflow as tf\n",
    "import tensorflow.keras as keras\n",
    "import numpy as np\n",
    "import pandas as pd\n",
    "import json\n",
    "import time\n",
    "\n",
    "from random import randint"
   ]
  },
  {
   "cell_type": "markdown",
   "id": "33a0e24a",
   "metadata": {},
   "source": [
    "### Preparazione fake data e del modello"
   ]
  },
  {
   "cell_type": "code",
   "execution_count": 2,
   "id": "4c994f76",
   "metadata": {},
   "outputs": [],
   "source": [
    "X1 = [randint(0,100) for i in range(1000)]\n",
    "X2 = [randint(-50,50) for i in range(1000)]"
   ]
  },
  {
   "cell_type": "code",
   "execution_count": 3,
   "id": "9fb169e7",
   "metadata": {},
   "outputs": [],
   "source": [
    "df = pd.DataFrame({\"x1\" : X1, \"x2\" : X2})"
   ]
  },
  {
   "cell_type": "code",
   "execution_count": 4,
   "id": "c47457bc",
   "metadata": {},
   "outputs": [],
   "source": [
    "def get_y(x):\n",
    "    \n",
    "    y = 2*x[0] + x[1]/2\n",
    "    \n",
    "    return y"
   ]
  },
  {
   "cell_type": "code",
   "execution_count": 5,
   "id": "fecfe7fd",
   "metadata": {},
   "outputs": [
    {
     "data": {
      "text/html": [
       "<div>\n",
       "<style scoped>\n",
       "    .dataframe tbody tr th:only-of-type {\n",
       "        vertical-align: middle;\n",
       "    }\n",
       "\n",
       "    .dataframe tbody tr th {\n",
       "        vertical-align: top;\n",
       "    }\n",
       "\n",
       "    .dataframe thead th {\n",
       "        text-align: right;\n",
       "    }\n",
       "</style>\n",
       "<table border=\"1\" class=\"dataframe\">\n",
       "  <thead>\n",
       "    <tr style=\"text-align: right;\">\n",
       "      <th></th>\n",
       "      <th>x1</th>\n",
       "      <th>x2</th>\n",
       "    </tr>\n",
       "  </thead>\n",
       "  <tbody>\n",
       "    <tr>\n",
       "      <th>0</th>\n",
       "      <td>97</td>\n",
       "      <td>-35</td>\n",
       "    </tr>\n",
       "    <tr>\n",
       "      <th>1</th>\n",
       "      <td>93</td>\n",
       "      <td>20</td>\n",
       "    </tr>\n",
       "    <tr>\n",
       "      <th>2</th>\n",
       "      <td>8</td>\n",
       "      <td>4</td>\n",
       "    </tr>\n",
       "    <tr>\n",
       "      <th>3</th>\n",
       "      <td>23</td>\n",
       "      <td>19</td>\n",
       "    </tr>\n",
       "    <tr>\n",
       "      <th>4</th>\n",
       "      <td>83</td>\n",
       "      <td>-33</td>\n",
       "    </tr>\n",
       "    <tr>\n",
       "      <th>...</th>\n",
       "      <td>...</td>\n",
       "      <td>...</td>\n",
       "    </tr>\n",
       "    <tr>\n",
       "      <th>995</th>\n",
       "      <td>94</td>\n",
       "      <td>-27</td>\n",
       "    </tr>\n",
       "    <tr>\n",
       "      <th>996</th>\n",
       "      <td>22</td>\n",
       "      <td>-8</td>\n",
       "    </tr>\n",
       "    <tr>\n",
       "      <th>997</th>\n",
       "      <td>7</td>\n",
       "      <td>-21</td>\n",
       "    </tr>\n",
       "    <tr>\n",
       "      <th>998</th>\n",
       "      <td>71</td>\n",
       "      <td>-40</td>\n",
       "    </tr>\n",
       "    <tr>\n",
       "      <th>999</th>\n",
       "      <td>25</td>\n",
       "      <td>39</td>\n",
       "    </tr>\n",
       "  </tbody>\n",
       "</table>\n",
       "<p>1000 rows × 2 columns</p>\n",
       "</div>"
      ],
      "text/plain": [
       "     x1  x2\n",
       "0    97 -35\n",
       "1    93  20\n",
       "2     8   4\n",
       "3    23  19\n",
       "4    83 -33\n",
       "..   ..  ..\n",
       "995  94 -27\n",
       "996  22  -8\n",
       "997   7 -21\n",
       "998  71 -40\n",
       "999  25  39\n",
       "\n",
       "[1000 rows x 2 columns]"
      ]
     },
     "execution_count": 5,
     "metadata": {},
     "output_type": "execute_result"
    }
   ],
   "source": [
    "df"
   ]
  },
  {
   "cell_type": "code",
   "execution_count": 6,
   "id": "3af68e35",
   "metadata": {},
   "outputs": [],
   "source": [
    "df['y'] = df.apply(get_y, axis=1)"
   ]
  },
  {
   "cell_type": "code",
   "execution_count": 7,
   "id": "a377833b",
   "metadata": {},
   "outputs": [
    {
     "data": {
      "text/html": [
       "<div>\n",
       "<style scoped>\n",
       "    .dataframe tbody tr th:only-of-type {\n",
       "        vertical-align: middle;\n",
       "    }\n",
       "\n",
       "    .dataframe tbody tr th {\n",
       "        vertical-align: top;\n",
       "    }\n",
       "\n",
       "    .dataframe thead th {\n",
       "        text-align: right;\n",
       "    }\n",
       "</style>\n",
       "<table border=\"1\" class=\"dataframe\">\n",
       "  <thead>\n",
       "    <tr style=\"text-align: right;\">\n",
       "      <th></th>\n",
       "      <th>x1</th>\n",
       "      <th>x2</th>\n",
       "      <th>y</th>\n",
       "    </tr>\n",
       "  </thead>\n",
       "  <tbody>\n",
       "    <tr>\n",
       "      <th>0</th>\n",
       "      <td>97</td>\n",
       "      <td>-35</td>\n",
       "      <td>176.5</td>\n",
       "    </tr>\n",
       "    <tr>\n",
       "      <th>1</th>\n",
       "      <td>93</td>\n",
       "      <td>20</td>\n",
       "      <td>196.0</td>\n",
       "    </tr>\n",
       "    <tr>\n",
       "      <th>2</th>\n",
       "      <td>8</td>\n",
       "      <td>4</td>\n",
       "      <td>18.0</td>\n",
       "    </tr>\n",
       "    <tr>\n",
       "      <th>3</th>\n",
       "      <td>23</td>\n",
       "      <td>19</td>\n",
       "      <td>55.5</td>\n",
       "    </tr>\n",
       "    <tr>\n",
       "      <th>4</th>\n",
       "      <td>83</td>\n",
       "      <td>-33</td>\n",
       "      <td>149.5</td>\n",
       "    </tr>\n",
       "  </tbody>\n",
       "</table>\n",
       "</div>"
      ],
      "text/plain": [
       "   x1  x2      y\n",
       "0  97 -35  176.5\n",
       "1  93  20  196.0\n",
       "2   8   4   18.0\n",
       "3  23  19   55.5\n",
       "4  83 -33  149.5"
      ]
     },
     "execution_count": 7,
     "metadata": {},
     "output_type": "execute_result"
    }
   ],
   "source": [
    "df.head()"
   ]
  },
  {
   "cell_type": "code",
   "execution_count": 8,
   "id": "1f78af7d",
   "metadata": {},
   "outputs": [],
   "source": [
    "X = df[['x1', 'x2']].values\n",
    "y = df.y.values"
   ]
  },
  {
   "cell_type": "code",
   "execution_count": 98,
   "id": "a58bc76c",
   "metadata": {},
   "outputs": [],
   "source": [
    "with tf.device('/cpu:0'):\n",
    "    model = keras.models.Sequential()\n",
    "\n",
    "    model.add(keras.layers.Dense(100, input_shape=(2,)))\n",
    "    model.add(keras.layers.Dense(1))\n",
    "\n",
    "    model.compile(loss='mae', optimizer='adam', metrics='mae')\n",
    "    \n",
    "    model.fit(X,y, epochs=100, verbose=0)"
   ]
  },
  {
   "cell_type": "code",
   "execution_count": 99,
   "id": "3533cd12",
   "metadata": {},
   "outputs": [],
   "source": [
    "with tf.device('/cpu:0'):\n",
    "    y_hat = model.predict(X[0].reshape(-1,2).tolist())"
   ]
  },
  {
   "cell_type": "code",
   "execution_count": 100,
   "id": "3040f631",
   "metadata": {},
   "outputs": [
    {
     "data": {
      "text/plain": [
       "array([[176.3245]], dtype=float32)"
      ]
     },
     "execution_count": 100,
     "metadata": {},
     "output_type": "execute_result"
    }
   ],
   "source": [
    "y_hat"
   ]
  },
  {
   "cell_type": "markdown",
   "id": "3e26c885",
   "metadata": {},
   "source": [
    "### Salvataggio del modello"
   ]
  },
  {
   "cell_type": "code",
   "execution_count": 101,
   "id": "2afd0cea",
   "metadata": {},
   "outputs": [
    {
     "name": "stdout",
     "output_type": "stream",
     "text": [
      "INFO:tensorflow:Assets written to: models/example/1676734038/assets\n"
     ]
    }
   ],
   "source": [
    "# Nome del modello\n",
    "name = 'example'\n",
    "\n",
    "# Versione del modello (TensorFlow Serving gestisce automaticamente l'ultima versione)\n",
    "version = int(time.time())\n",
    "\n",
    "# Salvataggio\n",
    "model.save(filepath=f'models/{name}/{version}', save_format='pb', overwrite=True)\n",
    "# model.save(filepath=f'models/{name}/{version}')"
   ]
  },
  {
   "cell_type": "markdown",
   "id": "14825334",
   "metadata": {},
   "source": [
    "**saved_model_cli show --dir models/example/001 --tag_set serve --signature_def serving_default**"
   ]
  },
  {
   "cell_type": "code",
   "execution_count": 24,
   "id": "1fc73dcc",
   "metadata": {},
   "outputs": [
    {
     "name": "stdout",
     "output_type": "stream",
     "text": [
      "The given SavedModel SignatureDef contains the following input(s):\n",
      "  inputs['dense_2_input'] tensor_info:\n",
      "      dtype: DT_FLOAT\n",
      "      shape: (-1, 2)\n",
      "      name: serving_default_dense_2_input:0\n",
      "The given SavedModel SignatureDef contains the following output(s):\n",
      "  outputs['dense_3'] tensor_info:\n",
      "      dtype: DT_FLOAT\n",
      "      shape: (-1, 1)\n",
      "      name: StatefulPartitionedCall:0\n",
      "Method name is: tensorflow/serving/predict\n"
     ]
    }
   ],
   "source": [
    "print(\"\"\"The given SavedModel SignatureDef contains the following input(s):\n",
    "  inputs['dense_2_input'] tensor_info:\n",
    "      dtype: DT_FLOAT\n",
    "      shape: (-1, 2)\n",
    "      name: serving_default_dense_2_input:0\n",
    "The given SavedModel SignatureDef contains the following output(s):\n",
    "  outputs['dense_3'] tensor_info:\n",
    "      dtype: DT_FLOAT\n",
    "      shape: (-1, 1)\n",
    "      name: StatefulPartitionedCall:0\n",
    "Method name is: tensorflow/serving/predict\"\"\")"
   ]
  },
  {
   "cell_type": "markdown",
   "id": "0d06af0e",
   "metadata": {},
   "source": [
    "### Avvio del modello attraverso un'istanza docker"
   ]
  },
  {
   "cell_type": "markdown",
   "id": "24562ed9",
   "metadata": {},
   "source": [
    "**path dei modelli**"
   ]
  },
  {
   "cell_type": "markdown",
   "id": "73f05a42",
   "metadata": {},
   "source": [
    "_MODEL_DIR=\"$(pwd)/models\"_"
   ]
  },
  {
   "cell_type": "markdown",
   "id": "932ac171",
   "metadata": {},
   "source": [
    "All'interno di questa cartella ci sarà dunque ogni singolo modello in una cartella (example in questo caso), all'interno di ogni cartella ci sarà dunque una sottocartella numerica che conterrà la versione del modello."
   ]
  },
  {
   "cell_type": "markdown",
   "id": "1e24201f",
   "metadata": {},
   "source": [
    "**avvio dell'istanza docker per il modello _example_**"
   ]
  },
  {
   "cell_type": "markdown",
   "id": "eff4effd",
   "metadata": {},
   "source": [
    "docker run -t --rm -p 8501:8501 -v \"$MODEL_DIR/example:/models/example\" -e MODEL_NAME=example tensorflow/serving &"
   ]
  },
  {
   "cell_type": "markdown",
   "id": "181ab50d",
   "metadata": {},
   "source": [
    "**esempi di interrogazione attraverso curl**"
   ]
  },
  {
   "cell_type": "markdown",
   "id": "059437f0",
   "metadata": {},
   "source": [
    "curl -d \"{\\\"instances\\\": [[10]]}\" -X POST http://localhost:8501/v1/models/example:predict"
   ]
  },
  {
   "cell_type": "markdown",
   "id": "cba06b12",
   "metadata": {},
   "source": [
    "{\n",
    "    \"predictions\": [[24.9380608]\n",
    "    ]\n",
    "}"
   ]
  },
  {
   "cell_type": "markdown",
   "id": "8a800b09",
   "metadata": {},
   "source": [
    "curl -d \"{\\\"instances\\\": [[10], [10], [20]]}\" -X POST http://localhost:8501/v1/models/example:predict"
   ]
  },
  {
   "cell_type": "markdown",
   "id": "486f623e",
   "metadata": {},
   "source": [
    "### Interrogazione API attraverso la libreria \"requests\""
   ]
  },
  {
   "cell_type": "code",
   "execution_count": 9,
   "id": "526e349b",
   "metadata": {},
   "outputs": [],
   "source": [
    "import requests"
   ]
  },
  {
   "cell_type": "code",
   "execution_count": 10,
   "id": "7391a6fb",
   "metadata": {},
   "outputs": [],
   "source": [
    "data = dict()"
   ]
  },
  {
   "cell_type": "code",
   "execution_count": 102,
   "id": "90d14183",
   "metadata": {},
   "outputs": [
    {
     "data": {
      "text/plain": [
       "{'instances': [[97, -35]]}"
      ]
     },
     "execution_count": 102,
     "metadata": {},
     "output_type": "execute_result"
    }
   ],
   "source": [
    "data = {\"instances\" : X[0].reshape(-1,2).tolist()}\n",
    "data"
   ]
  },
  {
   "cell_type": "code",
   "execution_count": 103,
   "id": "847b5350",
   "metadata": {},
   "outputs": [],
   "source": [
    "url = \"http://localhost:8501/v1/models/example:predict\"\n",
    "# url = \"http://localhost:8501/v1/models/example:classify\""
   ]
  },
  {
   "cell_type": "code",
   "execution_count": 104,
   "id": "da07d7fb",
   "metadata": {},
   "outputs": [],
   "source": [
    "response = requests.post(url, json=data)"
   ]
  },
  {
   "cell_type": "code",
   "execution_count": 105,
   "id": "ff31a9a2",
   "metadata": {},
   "outputs": [
    {
     "data": {
      "text/plain": [
       "200"
      ]
     },
     "execution_count": 105,
     "metadata": {},
     "output_type": "execute_result"
    }
   ],
   "source": [
    "response.status_code"
   ]
  },
  {
   "cell_type": "code",
   "execution_count": 106,
   "id": "6b2fac40",
   "metadata": {},
   "outputs": [
    {
     "data": {
      "text/plain": [
       "{'predictions': [[176.324509]]}"
      ]
     },
     "execution_count": 106,
     "metadata": {},
     "output_type": "execute_result"
    }
   ],
   "source": [
    "response.json()"
   ]
  }
 ],
 "metadata": {
  "kernelspec": {
   "display_name": "Python 3 (ipykernel)",
   "language": "python",
   "name": "python3"
  },
  "language_info": {
   "codemirror_mode": {
    "name": "ipython",
    "version": 3
   },
   "file_extension": ".py",
   "mimetype": "text/x-python",
   "name": "python",
   "nbconvert_exporter": "python",
   "pygments_lexer": "ipython3",
   "version": "3.9.13"
  }
 },
 "nbformat": 4,
 "nbformat_minor": 5
}
