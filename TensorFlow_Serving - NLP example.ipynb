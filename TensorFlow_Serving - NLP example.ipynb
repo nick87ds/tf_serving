{
 "cells": [
  {
   "cell_type": "markdown",
   "id": "cb6379c7",
   "metadata": {},
   "source": [
    "# TensorFlow Serving and Preprocessing layers"
   ]
  },
  {
   "cell_type": "markdown",
   "id": "d6222d7f",
   "metadata": {},
   "source": [
    "https://www.tensorflow.org/guide/keras/preprocessing_layers"
   ]
  },
  {
   "cell_type": "markdown",
   "id": "5121cc83",
   "metadata": {},
   "source": [
    "I livelli di pre-elaborazione permettono di creare pipeline per l'elaborazione dell'input per ottenere modelli che siano realmente end-to-end. Ovvero modelli che che accettano come input dati grezzi, gestendo autonomamente la normalizzazione delle features."
   ]
  },
  {
   "cell_type": "markdown",
   "id": "b7ce91c5",
   "metadata": {},
   "source": [
    "### (Alcuni) Livelli disponibili"
   ]
  },
  {
   "cell_type": "markdown",
   "id": "9e3f8d6c",
   "metadata": {},
   "source": [
    "**Pre-elaborazione del testo**\n",
    " - tf.keras.layers.TextVectorization"
   ]
  },
  {
   "cell_type": "markdown",
   "id": "872c3e18",
   "metadata": {},
   "source": [
    "**Pre-elaborazione delle caratteristiche numeriche**\n",
    "\n",
    " - tf.keras.layers.Normalization\n",
    " - tf.keras.layers.Discretization"
   ]
  },
  {
   "cell_type": "markdown",
   "id": "a32b52d4",
   "metadata": {},
   "source": [
    "**Incremento dei dati di immagine**\n",
    "\n",
    "Questi livelli applicano trasformazioni casuali ad un batch di immagini. Sono attivi solo durante l'allenamento.\n",
    "\n",
    " - tf.keras.layers.RandomCrop\n",
    " - tf.keras.layers.RandomFlip\n",
    " - tf.keras.layers.RandomTranslation\n",
    " - tf.keras.layers.RandomRotation\n",
    " - tf.keras.layers.RandomZoom\n",
    " - tf.keras.layers.RandomHeight\n",
    " - tf.keras.layers.RandomWidth\n",
    " - tf.keras.layers.RandomContrast"
   ]
  },
  {
   "cell_type": "markdown",
   "id": "6705825a",
   "metadata": {},
   "source": [
    " ## Pre-elaborazione dei dati prima del modello o all'interno del modello???"
   ]
  },
  {
   "cell_type": "markdown",
   "id": "2214f641",
   "metadata": {},
   "source": [
    "### Prepare Dataset"
   ]
  },
  {
   "cell_type": "code",
   "execution_count": 1,
   "id": "bfba16bf",
   "metadata": {},
   "outputs": [],
   "source": [
    "import os"
   ]
  },
  {
   "cell_type": "code",
   "execution_count": 3,
   "id": "772b0455",
   "metadata": {},
   "outputs": [],
   "source": [
    "path = '../../Research/Wiki_Dataset/input_dir'"
   ]
  },
  {
   "cell_type": "code",
   "execution_count": 4,
   "id": "0c06dcb9",
   "metadata": {},
   "outputs": [
    {
     "data": {
      "text/plain": [
       "['sport', 'salute', 'tecnologia']"
      ]
     },
     "execution_count": 4,
     "metadata": {},
     "output_type": "execute_result"
    }
   ],
   "source": [
    "os.listdir(path)"
   ]
  },
  {
   "cell_type": "code",
   "execution_count": 5,
   "id": "f79cb095",
   "metadata": {},
   "outputs": [],
   "source": [
    "import glob\n",
    "import numpy as np\n",
    "import pandas as pd\n",
    "import re\n",
    "import time"
   ]
  },
  {
   "cell_type": "code",
   "execution_count": 6,
   "id": "5df43f40",
   "metadata": {},
   "outputs": [],
   "source": [
    "import logging\n",
    "import re\n",
    "import string\n",
    "from typing import Tuple, Union, List, Dict"
   ]
  },
  {
   "cell_type": "code",
   "execution_count": 7,
   "id": "82ff2844",
   "metadata": {},
   "outputs": [],
   "source": [
    "import numpy as np\n",
    "import tensorflow as tf\n",
    "from keras.layers import TextVectorization"
   ]
  },
  {
   "cell_type": "code",
   "execution_count": 8,
   "id": "ef47811f",
   "metadata": {},
   "outputs": [],
   "source": [
    "level = logging.INFO\n",
    "logging.basicConfig(level=level)\n",
    "logger = logging.getLogger(__name__)"
   ]
  },
  {
   "cell_type": "code",
   "execution_count": 9,
   "id": "f5e50870",
   "metadata": {},
   "outputs": [],
   "source": [
    "files = glob.glob(f\"{path}/*/*.txt\", recursive=True)\n",
    "\n",
    "files = [file for file in files]"
   ]
  },
  {
   "cell_type": "code",
   "execution_count": 10,
   "id": "5bc7e5a4",
   "metadata": {},
   "outputs": [
    {
     "data": {
      "text/plain": [
       "'../../Research/Wiki_Dataset/input_dir/sport/articolo_sport_336.txt'"
      ]
     },
     "execution_count": 10,
     "metadata": {},
     "output_type": "execute_result"
    }
   ],
   "source": [
    "files[0]"
   ]
  },
  {
   "cell_type": "code",
   "execution_count": 11,
   "id": "630e47d1",
   "metadata": {},
   "outputs": [],
   "source": [
    "class2id = {'sport':0, 'salute':1, 'tecnologia':2}"
   ]
  },
  {
   "cell_type": "code",
   "execution_count": 12,
   "id": "cf72ac40",
   "metadata": {},
   "outputs": [],
   "source": [
    "id2class = {v:k for k,v in class2id.items()}"
   ]
  },
  {
   "cell_type": "code",
   "execution_count": 13,
   "id": "262861b4",
   "metadata": {},
   "outputs": [],
   "source": [
    "def get_class(file):\n",
    "\n",
    "    txt = file.split(\"/\")[-1]\n",
    "    txt = txt.split(\"_\")[1]\n",
    "    \n",
    "    classe = class2id[txt]\n",
    "    \n",
    "    return classe"
   ]
  },
  {
   "cell_type": "code",
   "execution_count": 14,
   "id": "b646f4e6",
   "metadata": {},
   "outputs": [
    {
     "data": {
      "text/plain": [
       "2"
      ]
     },
     "execution_count": 14,
     "metadata": {},
     "output_type": "execute_result"
    }
   ],
   "source": [
    "get_class(files[1000])"
   ]
  },
  {
   "cell_type": "code",
   "execution_count": 15,
   "id": "47e4cb93",
   "metadata": {},
   "outputs": [],
   "source": [
    "def read_text_data(txt_file:str) -> str:\n",
    "\n",
    "    with open(txt_file, 'r', encoding='utf-8') as f:\n",
    "        txt = f.readlines()\n",
    "        txt = \" \".join(\" \".join(txt).split(\"\\n\"))\n",
    "        txt = re.findall(r\"<body>(.*)</body>\", txt)[0]\n",
    "        \n",
    "    return txt"
   ]
  },
  {
   "cell_type": "code",
   "execution_count": 16,
   "id": "14deec16",
   "metadata": {},
   "outputs": [],
   "source": [
    "# read_text_data(files[1000])"
   ]
  },
  {
   "cell_type": "code",
   "execution_count": 17,
   "id": "1e736258",
   "metadata": {},
   "outputs": [],
   "source": [
    "# '[%s]'%re.escape(string.punctuation)"
   ]
  },
  {
   "cell_type": "code",
   "execution_count": 18,
   "id": "6634ae08",
   "metadata": {},
   "outputs": [],
   "source": [
    "classes = [get_class(file) for file in files]\n",
    "# classes[:10]"
   ]
  },
  {
   "cell_type": "code",
   "execution_count": 19,
   "id": "86371628",
   "metadata": {},
   "outputs": [],
   "source": [
    "dataset = [read_text_data(file) for file in files]\n",
    "# dataset[0]"
   ]
  },
  {
   "cell_type": "code",
   "execution_count": 20,
   "id": "c9452bca",
   "metadata": {},
   "outputs": [],
   "source": [
    "class TFModel(tf.Module):\n",
    "    \n",
    "    def __init__(self, model: tf.keras.Model) -> None:\n",
    "        self.model = model\n",
    "                \n",
    "\n",
    "    @tf.function(input_signature=[tf.TensorSpec(shape=(1,), dtype=tf.string)])\n",
    "    def prediction(self, review: str) -> Dict[str, Union[str, List[float]]]:\n",
    "        return {\n",
    "            'prediction': self.model(review)\n",
    "        }"
   ]
  },
  {
   "cell_type": "code",
   "execution_count": 21,
   "id": "dd1fb77b",
   "metadata": {},
   "outputs": [],
   "source": [
    "class ModelTrainer:\n",
    "    \n",
    "    def __init__(self) -> None:\n",
    "        self.tf_model_wrapper: TFModel\n",
    "            \n",
    "        \n",
    "        # Architettura\n",
    "        self.embed_size = 128\n",
    "        self.max_features = 20000\n",
    "        self.epochs = 10\n",
    "        self.batch_size = 128\n",
    "        self.max_len = 100\n",
    "                \n",
    "    \n",
    "    def fetch_data(self) -> Tuple[np.ndarray, np.ndarray]:\n",
    "        \n",
    "        files = glob.glob(f\"{path}/*/*.txt\", recursive=True)\n",
    "        files = [file for file in files]\n",
    "        \n",
    "        classes = [get_class(file) for file in files]\n",
    "        classes = tf.keras.utils.to_categorical(np.array(classes))\n",
    "        \n",
    "        dataset = [read_text_data(file) for file in files]\n",
    "        dataset = np.array(dataset)\n",
    "        \n",
    "        self.text_dataset = dataset\n",
    "\n",
    "        return dataset, classes, dataset, classes\n",
    "    \n",
    "    \n",
    "    def custom_preprocessing(self, raw_text:str) -> tf.string:\n",
    "        \n",
    "        lowercase = tf.strings.lower(raw_text)\n",
    "        stripped_html = tf.strings.regex_replace(lowercase, \"<br/>\", \"\")\n",
    "        \n",
    "        txt = tf.strings.regex_replace(stripped_html, '[%s]' % re.escape(string.punctuation), '')\n",
    "        txt = tf.strings.regex_replace(txt, \"[ ]+\", \" \")\n",
    "        \n",
    "        return txt\n",
    "    \n",
    "    \n",
    "    def init_vectorize_layer(self, text_dataset:np.ndarray) -> TextVectorization:\n",
    "        \n",
    "        text_vectorizer = TextVectorization(max_tokens=self.max_features, \n",
    "                                            standardize=self.custom_preprocessing, \n",
    "                                            output_mode='int', \n",
    "                                            output_sequence_length=self.max_len)\n",
    "        \n",
    "        with tf.device('/cpu:0'):\n",
    "            text_vectorizer.adapt(text_dataset)\n",
    "        \n",
    "        return text_vectorizer\n",
    "    \n",
    "    \n",
    "    def init_model(self, text_dataset: np.ndarray) -> tf.keras.Model:\n",
    "        \n",
    "        logger.info(\"initialize vectorize_layer\")\n",
    "        vectorize_layer = self.init_vectorize_layer(self.text_dataset)\n",
    "        \n",
    "        logger.info(\"initialize Model\")\n",
    "        raw_input = tf.keras.Input(shape=(1,), dtype=tf.string)\n",
    "        \n",
    "        x = vectorize_layer(raw_input)\n",
    "        x = tf.keras.layers.Embedding(self.max_features + 1, \n",
    "                                      self.embed_size, \n",
    "                                      input_length=self.max_len)(x)\n",
    "        \n",
    "        x = tf.keras.layers.LSTM(128)(x)\n",
    "        \n",
    "        predictions = tf.keras.layers.Dense(3, activation='softmax')(x)\n",
    "        \n",
    "        model = tf.keras.Model(raw_input, predictions)\n",
    "        \n",
    "        model.compile(loss='categorical_crossentropy', optimizer='adam', metrics=['accuracy'])\n",
    "        \n",
    "        return model\n",
    "    \n",
    "    \n",
    "    def train(self) -> None:\n",
    "        \n",
    "        train_data, train_labels, _, _ = self.fetch_data()\n",
    "        \n",
    "        model = self.init_model(train_data)\n",
    "        \n",
    "        logger.info(\"initialize Training\")\n",
    "        \n",
    "        with tf.device('/cpu:0'):\n",
    "            model.fit(train_data, train_labels, \n",
    "                      epochs=self.epochs, \n",
    "                  batch_size=self.batch_size, \n",
    "                      shuffle=True)\n",
    "\n",
    "        self.tf_model_wrapper = TFModel(model)\n",
    "        \n",
    "        tf.saved_model.save(self.tf_model_wrapper.model, \n",
    "                            export_dir=f'classifier/saved_models/{int(time.time())}', \n",
    "                            signatures={'serving_default':self.tf_model_wrapper.prediction})\n",
    "        \n",
    "        logger.info(\"Model saved\")"
   ]
  },
  {
   "cell_type": "code",
   "execution_count": 22,
   "id": "c46ffb0f",
   "metadata": {},
   "outputs": [],
   "source": [
    "classifier = ModelTrainer()"
   ]
  },
  {
   "cell_type": "code",
   "execution_count": 24,
   "id": "3a1d4b9e",
   "metadata": {},
   "outputs": [
    {
     "name": "stderr",
     "output_type": "stream",
     "text": [
      "INFO:__main__:initialize vectorize_layer\n",
      "INFO:__main__:initialize Model\n",
      "INFO:__main__:initialize Training\n"
     ]
    },
    {
     "name": "stdout",
     "output_type": "stream",
     "text": [
      "Epoch 1/10\n",
      "12/12 [==============================] - 3s 151ms/step - loss: 1.0969 - accuracy: 0.3297\n",
      "Epoch 2/10\n",
      "12/12 [==============================] - 2s 155ms/step - loss: 0.9675 - accuracy: 0.6380\n",
      "Epoch 3/10\n",
      "12/12 [==============================] - 2s 152ms/step - loss: 0.6893 - accuracy: 0.7026\n",
      "Epoch 4/10\n",
      "12/12 [==============================] - 2s 147ms/step - loss: 0.4718 - accuracy: 0.7921\n",
      "Epoch 5/10\n",
      "12/12 [==============================] - 2s 151ms/step - loss: 0.2837 - accuracy: 0.9085\n",
      "Epoch 6/10\n",
      "12/12 [==============================] - 2s 150ms/step - loss: 0.1795 - accuracy: 0.9697\n",
      "Epoch 7/10\n",
      "12/12 [==============================] - 2s 153ms/step - loss: 0.1322 - accuracy: 0.9717\n",
      "Epoch 8/10\n",
      "12/12 [==============================] - 2s 150ms/step - loss: 0.0814 - accuracy: 0.9845\n",
      "Epoch 9/10\n",
      "12/12 [==============================] - 2s 151ms/step - loss: 0.0968 - accuracy: 0.9791\n",
      "Epoch 10/10\n",
      "12/12 [==============================] - 2s 148ms/step - loss: 0.1138 - accuracy: 0.9778\n"
     ]
    },
    {
     "name": "stderr",
     "output_type": "stream",
     "text": [
      "WARNING:absl:Found untraced functions such as lstm_cell_1_layer_call_fn, lstm_cell_1_layer_call_and_return_conditional_losses while saving (showing 2 of 2). These functions will not be directly callable after loading.\n"
     ]
    },
    {
     "name": "stdout",
     "output_type": "stream",
     "text": [
      "INFO:tensorflow:Assets written to: classifier/saved_models/1676126291/assets\n"
     ]
    },
    {
     "name": "stderr",
     "output_type": "stream",
     "text": [
      "INFO:tensorflow:Assets written to: classifier/saved_models/1676126291/assets\n",
      "INFO:__main__:Model saved\n"
     ]
    }
   ],
   "source": [
    "classifier.train()"
   ]
  }
 ],
 "metadata": {
  "kernelspec": {
   "display_name": "Python 3 (ipykernel)",
   "language": "python",
   "name": "python3"
  },
  "language_info": {
   "codemirror_mode": {
    "name": "ipython",
    "version": 3
   },
   "file_extension": ".py",
   "mimetype": "text/x-python",
   "name": "python",
   "nbconvert_exporter": "python",
   "pygments_lexer": "ipython3",
   "version": "3.9.13"
  }
 },
 "nbformat": 4,
 "nbformat_minor": 5
}
