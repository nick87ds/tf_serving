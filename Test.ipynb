{
 "cells": [
  {
   "cell_type": "code",
   "execution_count": 1,
   "id": "8d8002df",
   "metadata": {},
   "outputs": [],
   "source": [
    "import requests"
   ]
  },
  {
   "cell_type": "code",
   "execution_count": 2,
   "id": "6ddb7790",
   "metadata": {},
   "outputs": [],
   "source": [
    "import glob\n",
    "import numpy as np\n",
    "import pandas as pd\n",
    "import re\n",
    "import time"
   ]
  },
  {
   "cell_type": "code",
   "execution_count": 3,
   "id": "b68afa38",
   "metadata": {},
   "outputs": [],
   "source": [
    "files = glob.glob(\"../Wiki_Dataset/input_dir/*/*.txt\", recursive=True)\n",
    "\n",
    "files = [file for file in files]"
   ]
  },
  {
   "cell_type": "code",
   "execution_count": 4,
   "id": "d8de13c6",
   "metadata": {},
   "outputs": [],
   "source": [
    "def read_text_data(txt_file:str) -> str:\n",
    "\n",
    "    with open(txt_file, 'r', encoding='utf-8') as f:\n",
    "        txt = f.readlines()\n",
    "        txt = \" \".join(\" \".join(txt).split(\"\\n\"))\n",
    "        txt = re.findall(r\"<body>(.*)</body>\", txt)[0]\n",
    "        \n",
    "    return txt"
   ]
  },
  {
   "cell_type": "code",
   "execution_count": 1,
   "id": "2f0f10cc",
   "metadata": {},
   "outputs": [],
   "source": [
    "# read_text_data(files[1000])"
   ]
  },
  {
   "cell_type": "code",
   "execution_count": 6,
   "id": "022fdb1c",
   "metadata": {},
   "outputs": [],
   "source": [
    "data = dict()"
   ]
  },
  {
   "cell_type": "code",
   "execution_count": 2,
   "id": "04ae5dd6",
   "metadata": {},
   "outputs": [
    {
     "ename": "NameError",
     "evalue": "name 'read_text_data' is not defined",
     "output_type": "error",
     "traceback": [
      "\u001b[0;31m---------------------------------------------------------------------------\u001b[0m",
      "\u001b[0;31mNameError\u001b[0m                                 Traceback (most recent call last)",
      "Cell \u001b[0;32mIn [2], line 1\u001b[0m\n\u001b[0;32m----> 1\u001b[0m data[\u001b[38;5;124m'\u001b[39m\u001b[38;5;124minstances\u001b[39m\u001b[38;5;124m'\u001b[39m] \u001b[38;5;241m=\u001b[39m [\u001b[43mread_text_data\u001b[49m(files[\u001b[38;5;241m1000\u001b[39m])]\n",
      "\u001b[0;31mNameError\u001b[0m: name 'read_text_data' is not defined"
     ]
    }
   ],
   "source": [
    "data['instances'] = [read_text_data(files[1000])]\n",
    "# data"
   ]
  },
  {
   "cell_type": "code",
   "execution_count": 8,
   "id": "a1077c80",
   "metadata": {},
   "outputs": [],
   "source": [
    "url = \"http://localhost:8501/v1/models/example:predict\""
   ]
  },
  {
   "cell_type": "code",
   "execution_count": 14,
   "id": "552c88c4",
   "metadata": {},
   "outputs": [],
   "source": [
    "response = requests.post(url, json=data)"
   ]
  },
  {
   "cell_type": "code",
   "execution_count": 15,
   "id": "cb2039ef",
   "metadata": {},
   "outputs": [
    {
     "data": {
      "text/plain": [
       "{'predictions': [[0.000221729162, 0.000618158141, 0.999160171]]}"
      ]
     },
     "execution_count": 15,
     "metadata": {},
     "output_type": "execute_result"
    }
   ],
   "source": [
    "response.json()"
   ]
  },
  {
   "cell_type": "code",
   "execution_count": 16,
   "id": "12c280c8",
   "metadata": {},
   "outputs": [
    {
     "data": {
      "text/plain": [
       "2"
      ]
     },
     "execution_count": 16,
     "metadata": {},
     "output_type": "execute_result"
    }
   ],
   "source": [
    "np.argmax(response.json()['predictions'][0])"
   ]
  },
  {
   "cell_type": "code",
   "execution_count": null,
   "id": "3affaae2",
   "metadata": {},
   "outputs": [],
   "source": []
  }
 ],
 "metadata": {
  "kernelspec": {
   "display_name": "Python 3 (ipykernel)",
   "language": "python",
   "name": "python3"
  },
  "language_info": {
   "codemirror_mode": {
    "name": "ipython",
    "version": 3
   },
   "file_extension": ".py",
   "mimetype": "text/x-python",
   "name": "python",
   "nbconvert_exporter": "python",
   "pygments_lexer": "ipython3",
   "version": "3.9.13"
  }
 },
 "nbformat": 4,
 "nbformat_minor": 5
}
