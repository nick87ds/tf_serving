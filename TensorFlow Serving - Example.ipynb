{
 "cells": [
  {
   "cell_type": "markdown",
   "id": "33b5d374",
   "metadata": {},
   "source": [
    "# TensorFlow Serving"
   ]
  },
  {
   "cell_type": "markdown",
   "id": "7cabb934",
   "metadata": {},
   "source": [
    "## Docker example"
   ]
  },
  {
   "cell_type": "markdown",
   "id": "fdd7906a",
   "metadata": {},
   "source": [
    "### Installazione"
   ]
  },
  {
   "cell_type": "markdown",
   "id": "3c1ac55e",
   "metadata": {},
   "source": [
    "_docker pull tensorflow/serving_"
   ]
  },
  {
   "cell_type": "code",
   "execution_count": 1,
   "id": "48aa9a67",
   "metadata": {},
   "outputs": [],
   "source": [
    "import tensorflow as tf\n",
    "import tensorflow.keras as keras\n",
    "import numpy as np\n",
    "\n",
    "from random import randint"
   ]
  },
  {
   "cell_type": "markdown",
   "id": "33a0e24a",
   "metadata": {},
   "source": [
    "### Preparazione fake data e del modello"
   ]
  },
  {
   "cell_type": "code",
   "execution_count": 4,
   "id": "4c994f76",
   "metadata": {},
   "outputs": [],
   "source": [
    "X = [randint(0,100) for i in range(1000)]"
   ]
  },
  {
   "cell_type": "code",
   "execution_count": 5,
   "id": "d4d8f0ec",
   "metadata": {},
   "outputs": [],
   "source": [
    "y = [x*2+x/2 for x in X]"
   ]
  },
  {
   "cell_type": "code",
   "execution_count": 38,
   "id": "be822f93",
   "metadata": {},
   "outputs": [],
   "source": [
    "with tf.device('/cpu:0'):\n",
    "    model = keras.models.Sequential()\n",
    "\n",
    "    model.add(keras.layers.Dense(100, input_shape=(1,)))\n",
    "    model.add(keras.layers.Dense(1))\n",
    "\n",
    "    model.compile(loss='mae', optimizer='adam', metrics='mae')\n",
    "    \n",
    "    model.fit(X,y, epochs=100, verbose=0)"
   ]
  },
  {
   "cell_type": "code",
   "execution_count": 21,
   "id": "3533cd12",
   "metadata": {},
   "outputs": [],
   "source": [
    "with tf.device('/cpu:0'):\n",
    "    y_hat = model.predict([10])"
   ]
  },
  {
   "cell_type": "code",
   "execution_count": 22,
   "id": "3040f631",
   "metadata": {},
   "outputs": [
    {
     "data": {
      "text/plain": [
       "array([[24.959215]], dtype=float32)"
      ]
     },
     "execution_count": 22,
     "metadata": {},
     "output_type": "execute_result"
    }
   ],
   "source": [
    "y_hat"
   ]
  },
  {
   "cell_type": "markdown",
   "id": "3e26c885",
   "metadata": {},
   "source": [
    "### Salvataggio del modello"
   ]
  },
  {
   "cell_type": "code",
   "execution_count": 23,
   "id": "2afd0cea",
   "metadata": {},
   "outputs": [
    {
     "name": "stdout",
     "output_type": "stream",
     "text": [
      "INFO:tensorflow:Assets written to: models/example/003/assets\n"
     ]
    }
   ],
   "source": [
    "# Nome del modello\n",
    "name = 'example'\n",
    "\n",
    "# Versione del modello (TensorFlow Serving gestisce automaticamente l'ultima versione)\n",
    "version = '001'\n",
    "\n",
    "# Salvataggio\n",
    "model.save(filepath=f'models/{name}/{version}', save_format='pb')"
   ]
  },
  {
   "cell_type": "markdown",
   "id": "0d06af0e",
   "metadata": {},
   "source": [
    "### Avvio del modello attraverso un'istanza docker"
   ]
  },
  {
   "cell_type": "markdown",
   "id": "24562ed9",
   "metadata": {},
   "source": [
    "**path dei modelli**"
   ]
  },
  {
   "cell_type": "markdown",
   "id": "73f05a42",
   "metadata": {},
   "source": [
    "_MODEL_DIR=\"$(pwd)/models\"_"
   ]
  },
  {
   "cell_type": "markdown",
   "id": "932ac171",
   "metadata": {},
   "source": [
    "All'interno di questa cartella ci sarà dunque ogni singolo modello in una cartella (example in questo caso), all'interno di ogni cartella ci sarà dunque una sottocartella numerica che conterrà la versione del modello."
   ]
  },
  {
   "cell_type": "markdown",
   "id": "1e24201f",
   "metadata": {},
   "source": [
    "**avvio dell'istanza docker per il modello _example_**"
   ]
  },
  {
   "cell_type": "markdown",
   "id": "eff4effd",
   "metadata": {},
   "source": [
    "docker run -t --rm -p 8501:8501 -v \"$MODEL_DIR/example:/models/example\" -e MODEL_NAME=example tensorflow/serving &"
   ]
  },
  {
   "cell_type": "markdown",
   "id": "181ab50d",
   "metadata": {},
   "source": [
    "**esempi di interrogazione attraverso curl**"
   ]
  },
  {
   "cell_type": "markdown",
   "id": "059437f0",
   "metadata": {},
   "source": [
    "curl -d \"{\\\"instances\\\": [[10]]}\" -X POST http://localhost:8501/v1/models/example:predict"
   ]
  },
  {
   "cell_type": "markdown",
   "id": "cba06b12",
   "metadata": {},
   "source": [
    "{\n",
    "    \"predictions\": [[24.9380608]\n",
    "    ]\n",
    "}"
   ]
  },
  {
   "cell_type": "markdown",
   "id": "8a800b09",
   "metadata": {},
   "source": [
    "curl -d \"{\\\"instances\\\": [[10], [10], [20]]}\" -X POST http://localhost:8501/v1/models/example:predict"
   ]
  },
  {
   "cell_type": "markdown",
   "id": "486f623e",
   "metadata": {},
   "source": [
    "### Interrogazione API attraverso la libreria \"requests\""
   ]
  },
  {
   "cell_type": "code",
   "execution_count": 11,
   "id": "526e349b",
   "metadata": {},
   "outputs": [],
   "source": [
    "import requests"
   ]
  },
  {
   "cell_type": "code",
   "execution_count": 12,
   "id": "7391a6fb",
   "metadata": {},
   "outputs": [],
   "source": [
    "data = dict()"
   ]
  },
  {
   "cell_type": "code",
   "execution_count": 24,
   "id": "01292cd7",
   "metadata": {},
   "outputs": [
    {
     "data": {
      "text/plain": [
       "{'instances': [[9], [10]]}"
      ]
     },
     "execution_count": 24,
     "metadata": {},
     "output_type": "execute_result"
    }
   ],
   "source": [
    "data['instances'] = [[i] for i in range(9, 11)]\n",
    "data"
   ]
  },
  {
   "cell_type": "code",
   "execution_count": 33,
   "id": "847b5350",
   "metadata": {},
   "outputs": [],
   "source": [
    "url = \"http://localhost:8501/v1/models/example:predict\""
   ]
  },
  {
   "cell_type": "code",
   "execution_count": 34,
   "id": "da07d7fb",
   "metadata": {},
   "outputs": [],
   "source": [
    "response = requests.post(url, json=data)"
   ]
  },
  {
   "cell_type": "code",
   "execution_count": 35,
   "id": "ff31a9a2",
   "metadata": {},
   "outputs": [
    {
     "data": {
      "text/plain": [
       "200"
      ]
     },
     "execution_count": 35,
     "metadata": {},
     "output_type": "execute_result"
    }
   ],
   "source": [
    "response.status_code"
   ]
  },
  {
   "cell_type": "code",
   "execution_count": 36,
   "id": "6b2fac40",
   "metadata": {},
   "outputs": [
    {
     "data": {
      "text/plain": [
       "{'predictions': [[22.5051498], [25.0058746]]}"
      ]
     },
     "execution_count": 36,
     "metadata": {},
     "output_type": "execute_result"
    }
   ],
   "source": [
    "response.json()"
   ]
  }
 ],
 "metadata": {
  "kernelspec": {
   "display_name": "Python 3 (ipykernel)",
   "language": "python",
   "name": "python3"
  },
  "language_info": {
   "codemirror_mode": {
    "name": "ipython",
    "version": 3
   },
   "file_extension": ".py",
   "mimetype": "text/x-python",
   "name": "python",
   "nbconvert_exporter": "python",
   "pygments_lexer": "ipython3",
   "version": "3.9.13"
  }
 },
 "nbformat": 4,
 "nbformat_minor": 5
}
